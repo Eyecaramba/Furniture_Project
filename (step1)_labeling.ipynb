{
 "cells": [
  {
   "cell_type": "code",
   "execution_count": 1,
   "metadata": {},
   "outputs": [],
   "source": [
    "# 파일목록을 불러와 file_list에 저장하기 \n",
    "import os\n",
    "file_list = os.listdir('./data_crawling/FloorPlanData/')\n"
   ]
  },
  {
   "cell_type": "code",
   "execution_count": 2,
   "metadata": {},
   "outputs": [],
   "source": [
    "#파일 목록 정렬해서 리스트에 다시 저장하기 \n",
    "file_list_sorted = sorted(file_list)"
   ]
  },
  {
   "cell_type": "code",
   "execution_count": 3,
   "metadata": {},
   "outputs": [],
   "source": [
    "import csv\n",
    "import numpy as np \n",
    "\n",
    "# numpy array로 바꿔서 shape 바꾸기 \n",
    "np_array = np.array(file_list_sorted)\n",
    "np_array = np_array.reshape(len(np_array),-1)\n",
    "np_array\n",
    "\n",
    "# numpy array 한 줄씩 csv에 저장하기 \n",
    "f = open('labeling_data_3000.csv','w')\n",
    "wr =  csv.writer(f)\n",
    "\n",
    "for i in np_array:\n",
    "    wr.writerow(i)\n",
    "f.close()"
   ]
  },
  {
   "cell_type": "code",
   "execution_count": null,
   "metadata": {},
   "outputs": [],
   "source": []
  }
 ],
 "metadata": {
  "kernelspec": {
   "display_name": "Python 3.9.7 ('base')",
   "language": "python",
   "name": "python3"
  },
  "language_info": {
   "codemirror_mode": {
    "name": "ipython",
    "version": 3
   },
   "file_extension": ".py",
   "mimetype": "text/x-python",
   "name": "python",
   "nbconvert_exporter": "python",
   "pygments_lexer": "ipython3",
   "version": "3.9.7"
  },
  "orig_nbformat": 4,
  "vscode": {
   "interpreter": {
    "hash": "40d3a090f54c6569ab1632332b64b2c03c39dcf918b08424e98f38b5ae0af88f"
   }
  }
 },
 "nbformat": 4,
 "nbformat_minor": 2
}
